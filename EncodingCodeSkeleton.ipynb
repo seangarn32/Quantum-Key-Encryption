{
 "cells": [
  {
   "cell_type": "code",
   "execution_count": 1,
   "metadata": {},
   "outputs": [
    {
     "data": {
      "image/png": "[encoded data removed]",
      "text/plain": [
       "<Figure size 640x480 with 1 Axes>"
      ]
     },
     "metadata": {},
     "output_type": "display_data"
    }
   ],
   "source": [
    "#Import an image\n",
    "\n",
    "import numpy as np \n",
    "from matplotlib import pyplot as plt\n",
    "from PIL import Image\n",
    "\n",
    "img = Image.open('UW-logo-64.png')\n",
    "\n",
    "#set when to be black or white\n",
    "threshold = 7\n",
    "\n",
    "#convert image to a list of pixels\n",
    "pixels = list(img.getdata())\n",
    "#print(pixels)\n",
    "\n",
    "# convert data list to contain only black or white\n",
    "newPixels = []\n",
    "for pixel in pixels:\n",
    "    # if looks like black, convert to black\n",
    "    if pixel[0] <= threshold:\n",
    "        newPixel = 1\n",
    "    # if looks like white, convert to white\n",
    "    else:\n",
    "        newPixel = 0\n",
    "    newPixels.append(newPixel)\n",
    "\n",
    "newImg = Image.new(img.mode, img.size)\n",
    "array = np.reshape(newPixels, img.size)\n",
    "\n",
    "plt.imshow(array, interpolation='nearest')\n",
    "plt.show()\n",
    "np.printoptions(precision=1)\n",
    "np.savetxt('test_data.txt',array)"
   ]
  },
  {
   "cell_type": "code",
   "execution_count": 2,
   "metadata": {},
   "outputs": [],
   "source": [
    "#Import keys\n",
    "\n",
    "Akey = []\n",
    "for i in range(9):\n",
    "    try:\n",
    "        arr = np.loadtxt(\"Alice_0\"+str(i)+\".csv\", delimiter=\";\", dtype=str)\n",
    "        arr = np.transpose(arr)\n",
    "        arr = arr[2]\n",
    "        \n",
    "        Akey = np.concatenate((Akey,arr), axis=0)\n",
    "    except:\n",
    "        pass\n",
    "        \n",
    "Akey = np.delete(Akey, np.where(Akey == 'BITVALUE'))\n",
    "Akey = Akey.astype(int)    \n",
    "#print(Akey)\n",
    "\n",
    "Bkey = []\n",
    "for i in range(9):\n",
    "    try:\n",
    "        arr = np.loadtxt(\"Bob_0\"+str(i)+\".csv\", delimiter=\";\", dtype=str)\n",
    "        arr = np.transpose(arr)\n",
    "        arr = arr[2]\n",
    "        \n",
    "        Bkey = np.concatenate((Bkey,arr), axis=0)\n",
    "    except:\n",
    "        pass\n",
    "        \n",
    "Bkey = np.delete(Bkey, np.where(Bkey== 'BITVALUE'))\n",
    "Bkey = Bkey.astype(int)    \n",
    "#print(Bkey)\n"
   ]
  },
  {
   "cell_type": "code",
   "execution_count": 3,
   "metadata": {},
   "outputs": [
    {
     "ename": "ValueError",
     "evalue": "cannot reshape array of size 771 into shape (64,64)",
     "output_type": "error",
     "traceback": [
      "\u001b[1;31m---------------------------------------------------------------------------\u001b[0m",
      "\u001b[1;31mValueError\u001b[0m                                Traceback (most recent call last)",
      "Input \u001b[1;32mIn [3]\u001b[0m, in \u001b[0;36m<cell line: 4>\u001b[1;34m()\u001b[0m\n\u001b[0;32m      1\u001b[0m \u001b[38;5;66;03m#Encode the image as Alice\u001b[39;00m\n\u001b[0;32m      3\u001b[0m Akey \u001b[38;5;241m=\u001b[39m Akey[:np\u001b[38;5;241m.\u001b[39msize(array)]\n\u001b[1;32m----> 4\u001b[0m Akey \u001b[38;5;241m=\u001b[39m \u001b[43mnp\u001b[49m\u001b[38;5;241;43m.\u001b[39;49m\u001b[43mreshape\u001b[49m\u001b[43m(\u001b[49m\u001b[43mAkey\u001b[49m\u001b[43m,\u001b[49m\u001b[43m \u001b[49m\u001b[43mimg\u001b[49m\u001b[38;5;241;43m.\u001b[39;49m\u001b[43msize\u001b[49m\u001b[43m)\u001b[49m\n\u001b[0;32m      6\u001b[0m array \u001b[38;5;241m=\u001b[39m array \u001b[38;5;241m^\u001b[39m Akey\n\u001b[0;32m      8\u001b[0m array \u001b[38;5;241m=\u001b[39m array\u001b[38;5;241m.\u001b[39mastype(\u001b[38;5;28mint\u001b[39m)  \n",
      "File \u001b[1;32m<__array_function__ internals>:180\u001b[0m, in \u001b[0;36mreshape\u001b[1;34m(*args, **kwargs)\u001b[0m\n",
      "File \u001b[1;32m~\\AppData\\Local\\Packages\\PythonSoftwareFoundation.Python.3.9_qbz5n2kfra8p0\\LocalCache\\local-packages\\Python39\\site-packages\\numpy\\core\\fromnumeric.py:298\u001b[0m, in \u001b[0;36mreshape\u001b[1;34m(a, newshape, order)\u001b[0m\n\u001b[0;32m    198\u001b[0m \u001b[38;5;129m@array_function_dispatch\u001b[39m(_reshape_dispatcher)\n\u001b[0;32m    199\u001b[0m \u001b[38;5;28;01mdef\u001b[39;00m \u001b[38;5;21mreshape\u001b[39m(a, newshape, order\u001b[38;5;241m=\u001b[39m\u001b[38;5;124m'\u001b[39m\u001b[38;5;124mC\u001b[39m\u001b[38;5;124m'\u001b[39m):\n\u001b[0;32m    200\u001b[0m     \u001b[38;5;124;03m\"\"\"\u001b[39;00m\n\u001b[0;32m    201\u001b[0m \u001b[38;5;124;03m    Gives a new shape to an array without changing its data.\u001b[39;00m\n\u001b[0;32m    202\u001b[0m \n\u001b[1;32m   (...)\u001b[0m\n\u001b[0;32m    296\u001b[0m \u001b[38;5;124;03m           [5, 6]])\u001b[39;00m\n\u001b[0;32m    297\u001b[0m \u001b[38;5;124;03m    \"\"\"\u001b[39;00m\n\u001b[1;32m--> 298\u001b[0m     \u001b[38;5;28;01mreturn\u001b[39;00m \u001b[43m_wrapfunc\u001b[49m\u001b[43m(\u001b[49m\u001b[43ma\u001b[49m\u001b[43m,\u001b[49m\u001b[43m \u001b[49m\u001b[38;5;124;43m'\u001b[39;49m\u001b[38;5;124;43mreshape\u001b[39;49m\u001b[38;5;124;43m'\u001b[39;49m\u001b[43m,\u001b[49m\u001b[43m \u001b[49m\u001b[43mnewshape\u001b[49m\u001b[43m,\u001b[49m\u001b[43m \u001b[49m\u001b[43morder\u001b[49m\u001b[38;5;241;43m=\u001b[39;49m\u001b[43morder\u001b[49m\u001b[43m)\u001b[49m\n",
      "File \u001b[1;32m~\\AppData\\Local\\Packages\\PythonSoftwareFoundation.Python.3.9_qbz5n2kfra8p0\\LocalCache\\local-packages\\Python39\\site-packages\\numpy\\core\\fromnumeric.py:57\u001b[0m, in \u001b[0;36m_wrapfunc\u001b[1;34m(obj, method, *args, **kwds)\u001b[0m\n\u001b[0;32m     54\u001b[0m     \u001b[38;5;28;01mreturn\u001b[39;00m _wrapit(obj, method, \u001b[38;5;241m*\u001b[39margs, \u001b[38;5;241m*\u001b[39m\u001b[38;5;241m*\u001b[39mkwds)\n\u001b[0;32m     56\u001b[0m \u001b[38;5;28;01mtry\u001b[39;00m:\n\u001b[1;32m---> 57\u001b[0m     \u001b[38;5;28;01mreturn\u001b[39;00m bound(\u001b[38;5;241m*\u001b[39margs, \u001b[38;5;241m*\u001b[39m\u001b[38;5;241m*\u001b[39mkwds)\n\u001b[0;32m     58\u001b[0m \u001b[38;5;28;01mexcept\u001b[39;00m \u001b[38;5;167;01mTypeError\u001b[39;00m:\n\u001b[0;32m     59\u001b[0m     \u001b[38;5;66;03m# A TypeError occurs if the object does have such a method in its\u001b[39;00m\n\u001b[0;32m     60\u001b[0m     \u001b[38;5;66;03m# class, but its signature is not identical to that of NumPy's. This\u001b[39;00m\n\u001b[1;32m   (...)\u001b[0m\n\u001b[0;32m     64\u001b[0m     \u001b[38;5;66;03m# Call _wrapit from within the except clause to ensure a potential\u001b[39;00m\n\u001b[0;32m     65\u001b[0m     \u001b[38;5;66;03m# exception has a traceback chain.\u001b[39;00m\n\u001b[0;32m     66\u001b[0m     \u001b[38;5;28;01mreturn\u001b[39;00m _wrapit(obj, method, \u001b[38;5;241m*\u001b[39margs, \u001b[38;5;241m*\u001b[39m\u001b[38;5;241m*\u001b[39mkwds)\n",
      "\u001b[1;31mValueError\u001b[0m: cannot reshape array of size 771 into shape (64,64)"
     ]
    }
   ],
   "source": [
    "#Encode the image as Alice\n",
    "\n",
    "Akey = Akey[:np.size(array)]\n",
    "Akey = np.reshape(Akey, img.size)\n",
    "\n",
    "array = array ^ Akey\n",
    "\n",
    "array = array.astype(int)  \n",
    "plt.imshow(array, interpolation='nearest')\n",
    "plt.show()\n",
    "np.printoptions(precision=1)\n",
    "np.savetxt('test_data.txt',array)\n",
    "\n",
    "#Decode the image as Bob\n",
    "\n",
    "Bkey = Bkey[:np.size(array)]\n",
    "Bkey = np.reshape(Bkey, img.size)\n",
    "\n",
    "array = array ^ Bkey\n",
    "\n",
    "array = array.astype(int)  \n",
    "plt.imshow(array, interpolation='nearest')\n",
    "plt.show()\n",
    "np.printoptions(precision=1)\n",
    "np.savetxt('test_data.txt',array)"
   ]
  }
 ],
 "metadata": {
  "kernelspec": {
   "display_name": "Python 3",
   "language": "python",
   "name": "python3"
  },
  "language_info": {
   "codemirror_mode": {
    "name": "ipython",
    "version": 3
   },
   "file_extension": ".py",
   "mimetype": "text/x-python",
   "name": "python",
   "nbconvert_exporter": "python",
   "pygments_lexer": "ipython3",
   "version": "3.9.13"
  },
  "orig_nbformat": 4
 },
 "nbformat": 4,
 "nbformat_minor": 2
}
